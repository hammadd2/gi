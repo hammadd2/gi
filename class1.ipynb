{
 "cells": [
  {
   "attachments": {},
   "cell_type": "markdown",
   "metadata": {},
   "source": [
    "# I am so Happy to start Python class"
   ]
  },
  {
   "cell_type": "code",
   "execution_count": 50,
   "metadata": {},
   "outputs": [
    {
     "name": "stdout",
     "output_type": "stream",
     "text": [
      "hello Jupitar\n"
     ]
    }
   ],
   "source": [
    "print(\"hello Jupitar\")"
   ]
  },
  {
   "cell_type": "code",
   "execution_count": 51,
   "metadata": {},
   "outputs": [
    {
     "name": "stdout",
     "output_type": "stream",
     "text": [
      "Hammad Ali\n",
      "<class 'str'>\n",
      "139927155188208\n"
     ]
    }
   ],
   "source": [
    "name : str=\"Hammad Ali\"\n",
    "print(name);\n",
    "print(type(name))\n",
    "print(id(name))\n"
   ]
  },
  {
   "attachments": {},
   "cell_type": "markdown",
   "metadata": {},
   "source": [
    "String"
   ]
  },
  {
   "cell_type": "code",
   "execution_count": 52,
   "metadata": {},
   "outputs": [
    {
     "name": "stdout",
     "output_type": "stream",
     "text": [
      "Boba Rooster\n",
      "<class 'str'>\n",
      "['__add__', '__class__', '__contains__', '__delattr__', '__dir__', '__doc__', '__eq__', '__format__', '__ge__', '__getattribute__', '__getitem__', '__getnewargs__', '__getstate__', '__gt__', '__hash__', '__init__', '__init_subclass__', '__iter__', '__le__', '__len__', '__lt__', '__mod__', '__mul__', '__ne__', '__new__', '__reduce__', '__reduce_ex__', '__repr__', '__rmod__', '__rmul__', '__setattr__', '__sizeof__', '__str__', '__subclasshook__', 'capitalize', 'casefold', 'center', 'count', 'encode', 'endswith', 'expandtabs', 'find', 'format', 'format_map', 'index', 'isalnum', 'isalpha', 'isascii', 'isdecimal', 'isdigit', 'isidentifier', 'islower', 'isnumeric', 'isprintable', 'isspace', 'istitle', 'isupper', 'join', 'ljust', 'lower', 'lstrip', 'maketrans', 'partition', 'removeprefix', 'removesuffix', 'replace', 'rfind', 'rindex', 'rjust', 'rpartition', 'rsplit', 'rstrip', 'split', 'splitlines', 'startswith', 'strip', 'swapcase', 'title', 'translate', 'upper', 'zfill']\n"
     ]
    }
   ],
   "source": [
    "name :str =\"Boba Rooster\"\n",
    "print(name);\n",
    "print(type(name))\n",
    "print(dir(name))\n"
   ]
  },
  {
   "attachments": {},
   "cell_type": "markdown",
   "metadata": {},
   "source": [
    "Print Directory"
   ]
  },
  {
   "cell_type": "code",
   "execution_count": 53,
   "metadata": {},
   "outputs": [
    {
     "name": "stdout",
     "output_type": "stream",
     "text": [
      "900\n",
      "<class 'int'>\n",
      "['__abs__', '__add__', '__and__', '__bool__', '__ceil__', '__class__', '__delattr__', '__dir__', '__divmod__', '__doc__', '__eq__', '__float__', '__floor__', '__floordiv__', '__format__', '__ge__', '__getattribute__', '__getnewargs__', '__getstate__', '__gt__', '__hash__', '__index__', '__init__', '__init_subclass__', '__int__', '__invert__', '__le__', '__lshift__', '__lt__', '__mod__', '__mul__', '__ne__', '__neg__', '__new__', '__or__', '__pos__', '__pow__', '__radd__', '__rand__', '__rdivmod__', '__reduce__', '__reduce_ex__', '__repr__', '__rfloordiv__', '__rlshift__', '__rmod__', '__rmul__', '__ror__', '__round__', '__rpow__', '__rrshift__', '__rshift__', '__rsub__', '__rtruediv__', '__rxor__', '__setattr__', '__sizeof__', '__str__', '__sub__', '__subclasshook__', '__truediv__', '__trunc__', '__xor__', 'as_integer_ratio', 'bit_count', 'bit_length', 'conjugate', 'denominator', 'from_bytes', 'imag', 'is_integer', 'numerator', 'real', 'to_bytes']\n"
     ]
    }
   ],
   "source": [
    "name :int = 900\n",
    "print(name);\n",
    "print(type(name))\n",
    "print(dir(name))\n"
   ]
  },
  {
   "attachments": {},
   "cell_type": "markdown",
   "metadata": {},
   "source": [
    "Integer"
   ]
  },
  {
   "cell_type": "code",
   "execution_count": 54,
   "metadata": {},
   "outputs": [
    {
     "name": "stdout",
     "output_type": "stream",
     "text": [
      "3.3\n",
      "<class 'float'>\n",
      "['__abs__', '__add__', '__bool__', '__ceil__', '__class__', '__delattr__', '__dir__', '__divmod__', '__doc__', '__eq__', '__float__', '__floor__', '__floordiv__', '__format__', '__ge__', '__getattribute__', '__getformat__', '__getnewargs__', '__getstate__', '__gt__', '__hash__', '__init__', '__init_subclass__', '__int__', '__le__', '__lt__', '__mod__', '__mul__', '__ne__', '__neg__', '__new__', '__pos__', '__pow__', '__radd__', '__rdivmod__', '__reduce__', '__reduce_ex__', '__repr__', '__rfloordiv__', '__rmod__', '__rmul__', '__round__', '__rpow__', '__rsub__', '__rtruediv__', '__setattr__', '__sizeof__', '__str__', '__sub__', '__subclasshook__', '__truediv__', '__trunc__', 'as_integer_ratio', 'conjugate', 'fromhex', 'hex', 'imag', 'is_integer', 'real']\n"
     ]
    }
   ],
   "source": [
    "name :float = 3.3\n",
    "print(name);\n",
    "print(type(name))\n",
    "print(dir(name))\n"
   ]
  },
  {
   "attachments": {},
   "cell_type": "markdown",
   "metadata": {},
   "source": [
    "Float"
   ]
  },
  {
   "cell_type": "code",
   "execution_count": 55,
   "metadata": {},
   "outputs": [
    {
     "name": "stdout",
     "output_type": "stream",
     "text": [
      "True\n",
      "<class 'bool'>\n",
      "['__abs__', '__add__', '__and__', '__bool__', '__ceil__', '__class__', '__delattr__', '__dir__', '__divmod__', '__doc__', '__eq__', '__float__', '__floor__', '__floordiv__', '__format__', '__ge__', '__getattribute__', '__getnewargs__', '__getstate__', '__gt__', '__hash__', '__index__', '__init__', '__init_subclass__', '__int__', '__invert__', '__le__', '__lshift__', '__lt__', '__mod__', '__mul__', '__ne__', '__neg__', '__new__', '__or__', '__pos__', '__pow__', '__radd__', '__rand__', '__rdivmod__', '__reduce__', '__reduce_ex__', '__repr__', '__rfloordiv__', '__rlshift__', '__rmod__', '__rmul__', '__ror__', '__round__', '__rpow__', '__rrshift__', '__rshift__', '__rsub__', '__rtruediv__', '__rxor__', '__setattr__', '__sizeof__', '__str__', '__sub__', '__subclasshook__', '__truediv__', '__trunc__', '__xor__', 'as_integer_ratio', 'bit_count', 'bit_length', 'conjugate', 'denominator', 'from_bytes', 'imag', 'is_integer', 'numerator', 'real', 'to_bytes']\n"
     ]
    }
   ],
   "source": [
    "name :bool = True\n",
    "print(name);\n",
    "print(type(name))\n",
    "print(dir(name))"
   ]
  },
  {
   "attachments": {},
   "cell_type": "markdown",
   "metadata": {},
   "source": [
    "Boolean"
   ]
  },
  {
   "cell_type": "code",
   "execution_count": 56,
   "metadata": {},
   "outputs": [
    {
     "name": "stdout",
     "output_type": "stream",
     "text": [
      "['a', 'b', 'c']\n",
      "<class 'list'>\n",
      "['__add__', '__class__', '__class_getitem__', '__contains__', '__delattr__', '__delitem__', '__dir__', '__doc__', '__eq__', '__format__', '__ge__', '__getattribute__', '__getitem__', '__getstate__', '__gt__', '__hash__', '__iadd__', '__imul__', '__init__', '__init_subclass__', '__iter__', '__le__', '__len__', '__lt__', '__mul__', '__ne__', '__new__', '__reduce__', '__reduce_ex__', '__repr__', '__reversed__', '__rmul__', '__setattr__', '__setitem__', '__sizeof__', '__str__', '__subclasshook__', 'append', 'clear', 'copy', 'count', 'extend', 'index', 'insert', 'pop', 'remove', 'reverse', 'sort']\n"
     ]
    }
   ],
   "source": [
    "name :list[str] = [\"a\",\"b\",\"c\"]\n",
    "print(name);\n",
    "print(type(name))\n",
    "print(dir(name))"
   ]
  },
  {
   "attachments": {},
   "cell_type": "markdown",
   "metadata": {},
   "source": [
    "List String"
   ]
  },
  {
   "cell_type": "code",
   "execution_count": 57,
   "metadata": {},
   "outputs": [
    {
     "name": "stdout",
     "output_type": "stream",
     "text": [
      "('a', 23, 5.4)\n",
      "<class 'tuple'>\n",
      "['__add__', '__class__', '__class_getitem__', '__contains__', '__delattr__', '__dir__', '__doc__', '__eq__', '__format__', '__ge__', '__getattribute__', '__getitem__', '__getnewargs__', '__getstate__', '__gt__', '__hash__', '__init__', '__init_subclass__', '__iter__', '__le__', '__len__', '__lt__', '__mul__', '__ne__', '__new__', '__reduce__', '__reduce_ex__', '__repr__', '__rmul__', '__setattr__', '__sizeof__', '__str__', '__subclasshook__', 'count', 'index']\n"
     ]
    }
   ],
   "source": [
    "name :tuple[str,int,float] = (\"a\",23,5.4)\n",
    "print(name);\n",
    "print(type(name))\n",
    "print(dir(name))"
   ]
  },
  {
   "attachments": {},
   "cell_type": "markdown",
   "metadata": {},
   "source": [
    "Multiple objects like string , integer and float, but not curly brackets require to use"
   ]
  },
  {
   "cell_type": "code",
   "execution_count": 58,
   "metadata": {},
   "outputs": [],
   "source": [
    "name : str = \"Hammad Ali\"\n",
    "fname : str = \"Asad Ali\"\n",
    "education : str = \"Masters in Computer Science\"\n",
    "age : int = 30\n",
    "card : str = \"PIA IT Professional\" + name + fname + education \n",
    "\n"
   ]
  },
  {
   "cell_type": "code",
   "execution_count": 59,
   "metadata": {},
   "outputs": [
    {
     "name": "stdout",
     "output_type": "stream",
     "text": [
      "PIA IT Professional\n",
      "Name:Hammad Ali\n",
      "Fname:Asad Ali\n",
      "Education:Masters in Computer Science\n",
      "Age:30\n"
     ]
    }
   ],
   "source": [
    "name: str = \"Hammad Ali\"\n",
    "fname: str = \"Asad Ali\"\n",
    "education: str = \"Masters in Computer Science\"\n",
    "age: int = 30\n",
    "card: str = \"PIA IT Professional\" + \"\\nName:\"+name + \"\\nFname:\" + \\\n",
    "    fname + \"\\nEducation:\" + education + \"\\nAge:\" + str(age)\n",
    "print(card)"
   ]
  },
  {
   "attachments": {},
   "cell_type": "markdown",
   "metadata": {},
   "source": [
    "#Use of newline \"\\n\" "
   ]
  },
  {
   "cell_type": "code",
   "execution_count": 61,
   "metadata": {},
   "outputs": [
    {
     "name": "stdout",
     "output_type": "stream",
     "text": [
      "\n",
      "Prime MinisterSehat Card \n",
      "Name: \n",
      "Fname:\n",
      "Education:\n",
      "Age:\n",
      "\n"
     ]
    }
   ],
   "source": [
    "card: str = \"\"\"\n",
    "Prime MinisterSehat Card \n",
    "Name: \n",
    "Fname:\n",
    "Education:\n",
    "Age:\n",
    "\"\"\"\n",
    "print(card)"
   ]
  },
  {
   "attachments": {},
   "cell_type": "markdown",
   "metadata": {},
   "source": [
    "# Use of Multi-line String"
   ]
  },
  {
   "cell_type": "code",
   "execution_count": null,
   "metadata": {},
   "outputs": [],
   "source": [
    "Name: str = \"Hammad Ali\"\n",
    "Fname: str = \"Asad Ali\"\n",
    "Education: str = \"Masters in Computer Science\"\n",
    "Age: int = 30\n",
    "\n",
    "card: str = f\"\"\"\n",
    "PM Sehat Card \n",
    "Name: {Name}\n",
    "Fname: {Fname}\n",
    "Education: {Education}\n",
    "Age: {Age}\n",
    "\"\"\"\n",
    "print(card)\n"
   ]
  },
  {
   "attachments": {},
   "cell_type": "markdown",
   "metadata": {},
   "source": [
    "# Use F-String\n",
    "Through F-string we can assign any type variable in any place\n",
    "This done by using after equal sign =f ””” and for variable name use curly brackets { }\t\n",
    "There is not anymore needed to use int datatype  str (30) in previous code Age: int = str(30) , above is the example we can use Age: int = (30)\n"
   ]
  },
  {
   "cell_type": "code",
   "execution_count": 2,
   "metadata": {},
   "outputs": [
    {
     "name": "stdout",
     "output_type": "stream",
     "text": [
      "\n",
      "PM Sehat Card \n",
      "Name: Hammad Ali\n",
      "Fname: Asad Ali\n",
      "Education: Masters in Computer Science\n",
      "Age: 30\n",
      "\n"
     ]
    }
   ],
   "source": [
    "Name: str = \"Hammad Ali\"\n",
    "Fname: str = \"Asad Ali\"\n",
    "Education: str = \"Masters in Computer Science\"\n",
    "Age: int = 30\n",
    "\n",
    "card: str = f'''\n",
    "PM Sehat Card \n",
    "Name: {Name}\n",
    "Fname: {Fname}\n",
    "Education: {Education}\n",
    "Age: {Age}\n",
    "'''\n",
    "print(card)\n"
   ]
  },
  {
   "attachments": {},
   "cell_type": "markdown",
   "metadata": {},
   "source": [
    "#In fstring we can also use single tripple quotes instead of tripple doublue quotes"
   ]
  },
  {
   "cell_type": "code",
   "execution_count": 3,
   "metadata": {},
   "outputs": [
    {
     "name": "stdout",
     "output_type": "stream",
     "text": [
      "\n",
      "PM Sehat Card \n",
      "Name: Hammad Ali\n",
      "Fname: Asad Ali\n",
      "Education: Masters in Computer Science\n",
      "Age: 30\n",
      "\n"
     ]
    }
   ],
   "source": [
    "ame: str = \"Hammad Ali\"\n",
    "Fname: str = \"Asad Ali\"\n",
    "Education: str = \"Masters in Computer Science\"\n",
    "Age: int = 30\n",
    "\n",
    "card: str = f'''\n",
    "PM Sehat Card \n",
    "Name: {Name}\n",
    "Fname: {Fname}\n",
    "Education: {Education}\n",
    "Age: {Age}\n",
    "'''\n",
    "print(card)"
   ]
  },
  {
   "cell_type": "code",
   "execution_count": 4,
   "metadata": {},
   "outputs": [
    {
     "name": "stdout",
     "output_type": "stream",
     "text": [
      "\n",
      "PM Sehat Card \n",
      "Name: Hammad Ali\n",
      "Fname: Asad Ali\n",
      "Education: Masters in Computer Science\n",
      "Age: 30\n",
      "\n"
     ]
    }
   ],
   "source": [
    "ame: str = \"Hammad Ali\"\n",
    "Fname: str = \"Asad Ali\"\n",
    "Education: str = \"Masters in Computer Science\"\n",
    "Age: int = 30\n",
    "\n",
    "card: str = f'''\n",
    "PM Sehat Card \n",
    "Name: {Name}\n",
    "Fname: {Fname}\n",
    "Education: {Education}\n",
    "Age: {Age}\n",
    "''' \n",
    "print(card)"
   ]
  },
  {
   "cell_type": "code",
   "execution_count": 10,
   "metadata": {},
   "outputs": [
    {
     "name": "stdout",
     "output_type": "stream",
     "text": [
      "\n",
      "PM Sehat Card \n",
      "Name: Hammad Ali\n",
      "Fname: Asad Ali\n",
      "Education: Masters in Computer Science\n",
      "Age: 30\n",
      "Total: 6\n",
      "\n"
     ]
    }
   ],
   "source": [
    "Name: str = \"Hammad Ali\"\n",
    "Fname: str = \"Asad Ali\"\n",
    "Education: str = \"Masters in Computer Science\"\n",
    "Age: int = 30\n",
    "\n",
    "card: str = f'''\n",
    "PM Sehat Card \n",
    "Name: {Name}\n",
    "Fname: {Fname}\n",
    "Education: {Education}\n",
    "Age: {Age}\n",
    "Total: {2+3+1}\n",
    "'''\n",
    "print(card)"
   ]
  },
  {
   "attachments": {},
   "cell_type": "markdown",
   "metadata": {},
   "source": [
    "#Fstring Calculation: \n",
    "We can calculate numbers using fstring\n"
   ]
  },
  {
   "cell_type": "code",
   "execution_count": 12,
   "metadata": {},
   "outputs": [
    {
     "data": {
      "text/plain": [
       "'\\nName: Hammad Ali\\n'"
      ]
     },
     "execution_count": 12,
     "metadata": {},
     "output_type": "execute_result"
    }
   ],
   "source": [
    "Name: str = \"Hammad Ali\"\n",
    "f\"\"\"\n",
    "Name: {Name}\n",
    "\"\"\""
   ]
  },
  {
   "attachments": {},
   "cell_type": "markdown",
   "metadata": {},
   "source": [
    "f-string"
   ]
  },
  {
   "cell_type": "code",
   "execution_count": null,
   "metadata": {},
   "outputs": [],
   "source": [
    "    "
   ]
  }
 ],
 "metadata": {
  "kernelspec": {
   "display_name": "Python 3",
   "language": "python",
   "name": "python3"
  },
  "language_info": {
   "codemirror_mode": {
    "name": "ipython",
    "version": 3
   },
   "file_extension": ".py",
   "mimetype": "text/x-python",
   "name": "python",
   "nbconvert_exporter": "python",
   "pygments_lexer": "ipython3",
   "version": "3.12.0"
  },
  "orig_nbformat": 4
 },
 "nbformat": 4,
 "nbformat_minor": 2
}
